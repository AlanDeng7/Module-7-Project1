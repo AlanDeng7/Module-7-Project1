{
 "cells": [
  {
   "cell_type": "code",
   "execution_count": 1,
   "metadata": {},
   "outputs": [],
   "source": [
    "#Dependencies\n",
    "import json\n",
    "import pprint\n",
    "import requests\n",
    "import pandas as pd \n",
    "from config import api_key"
   ]
  },
  {
   "cell_type": "code",
   "execution_count": 2,
   "metadata": {},
   "outputs": [],
   "source": [
    "#function to find the restaurants. (location, term to search for, number of results,apikey)\n",
    "def get_businesses(location, term,queries, api_key):\n",
    "    headers = {'Authorization': 'Bearer %s' % api_key}\n",
    "    url = 'https://api.yelp.com/v3/businesses/search'\n",
    "\n",
    "    data = []\n",
    "    for offset in range(0, queries, 50):\n",
    "        params = {\n",
    "            'limit': 50, \n",
    "            'location': location.replace(' ', '+'),\n",
    "            'term': term.replace(' ', '+'),\n",
    "            'offset': offset\n",
    "        }\n",
    "\n",
    "        response = requests.get(url, headers=headers, params=params)\n",
    "        if response.status_code == 200:\n",
    "            data += response.json()['businesses']\n",
    "        elif response.status_code == 400:\n",
    "            print('400 Bad Request')\n",
    "            break\n",
    "\n",
    "    return data"
   ]
  },
  {
   "cell_type": "code",
   "execution_count": 12,
   "metadata": {},
   "outputs": [
    {
     "data": {
      "text/plain": [
       "1000"
      ]
     },
     "execution_count": 12,
     "metadata": {},
     "output_type": "execute_result"
    }
   ],
   "source": [
    "tor_data=[]\n",
    "queries=1000\n",
    "response=get_businesses(\"Toronto\", \"restaurants\", queries, api_key)\n",
    "\n",
    "for i in range (0, queries, 1):\n",
    "    name=response[i]['name']\n",
    "    address = response[i]['location']['address1']\n",
    "    category=response[i]['categories'][0]['title']\n",
    "    rating=response[i]['rating']\n",
    "    review_count = response[i]['review_count']\n",
    "    price_symbol = (response[i]).get('price')\n",
    "    price_num = str(price_symbol).count('$')\n",
    "    lat = response[i]['coordinates']['latitude']\n",
    "    lon = response[i]['coordinates']['longitude']\n",
    "    \n",
    "\n",
    "    tor_data.append({\"Restaurant Name\":name,\"Address\":address,\"Category\":category,\"Rating\":rating,\"Number of Reviews\":review_count,\"Price($)\":price_symbol,\"Price(1-5)\":price_num,\"Latitude\":lat,\"Longitude\":lon})\n",
    "\n",
    "tor_df=pd.DataFrame(tor_data)\n",
    "len(tor_df) "
   ]
  },
  {
   "cell_type": "code",
   "execution_count": 14,
   "metadata": {},
   "outputs": [
    {
     "data": {
      "text/html": [
       "<div>\n",
       "<style scoped>\n",
       "    .dataframe tbody tr th:only-of-type {\n",
       "        vertical-align: middle;\n",
       "    }\n",
       "\n",
       "    .dataframe tbody tr th {\n",
       "        vertical-align: top;\n",
       "    }\n",
       "\n",
       "    .dataframe thead th {\n",
       "        text-align: right;\n",
       "    }\n",
       "</style>\n",
       "<table border=\"1\" class=\"dataframe\">\n",
       "  <thead>\n",
       "    <tr style=\"text-align: right;\">\n",
       "      <th></th>\n",
       "      <th>Restaurant Name</th>\n",
       "      <th>Address</th>\n",
       "      <th>Category</th>\n",
       "      <th>Rating</th>\n",
       "      <th>Number of Reviews</th>\n",
       "      <th>Price($)</th>\n",
       "      <th>Price(1-5)</th>\n",
       "      <th>Latitude</th>\n",
       "      <th>Longitude</th>\n",
       "    </tr>\n",
       "  </thead>\n",
       "  <tbody>\n",
       "    <tr>\n",
       "      <th>0</th>\n",
       "      <td>Pai Northern Thai Kitchen</td>\n",
       "      <td>18 Duncan Street</td>\n",
       "      <td>Thai</td>\n",
       "      <td>4.5</td>\n",
       "      <td>3335</td>\n",
       "      <td>$$</td>\n",
       "      <td>2</td>\n",
       "      <td>43.647840</td>\n",
       "      <td>-79.388720</td>\n",
       "    </tr>\n",
       "    <tr>\n",
       "      <th>1</th>\n",
       "      <td>Richmond Station</td>\n",
       "      <td>1 Richmond Street W</td>\n",
       "      <td>Canadian (New)</td>\n",
       "      <td>4.5</td>\n",
       "      <td>869</td>\n",
       "      <td>$$$</td>\n",
       "      <td>3</td>\n",
       "      <td>43.651373</td>\n",
       "      <td>-79.379285</td>\n",
       "    </tr>\n",
       "    <tr>\n",
       "      <th>2</th>\n",
       "      <td>Mira</td>\n",
       "      <td>420A Wellington Street W</td>\n",
       "      <td>Peruvian</td>\n",
       "      <td>4.5</td>\n",
       "      <td>256</td>\n",
       "      <td>$$</td>\n",
       "      <td>2</td>\n",
       "      <td>43.644170</td>\n",
       "      <td>-79.396390</td>\n",
       "    </tr>\n",
       "    <tr>\n",
       "      <th>3</th>\n",
       "      <td>Rasa</td>\n",
       "      <td>196 Robert Street</td>\n",
       "      <td>Canadian (New)</td>\n",
       "      <td>4.5</td>\n",
       "      <td>317</td>\n",
       "      <td>$$</td>\n",
       "      <td>2</td>\n",
       "      <td>43.662775</td>\n",
       "      <td>-79.403968</td>\n",
       "    </tr>\n",
       "    <tr>\n",
       "      <th>4</th>\n",
       "      <td>KINKA IZAKAYA ORIGINAL</td>\n",
       "      <td>398 Church Street</td>\n",
       "      <td>Japanese</td>\n",
       "      <td>4.0</td>\n",
       "      <td>1790</td>\n",
       "      <td>$$</td>\n",
       "      <td>2</td>\n",
       "      <td>43.660424</td>\n",
       "      <td>-79.378900</td>\n",
       "    </tr>\n",
       "  </tbody>\n",
       "</table>\n",
       "</div>"
      ],
      "text/plain": [
       "             Restaurant Name                   Address        Category  \\\n",
       "0  Pai Northern Thai Kitchen          18 Duncan Street            Thai   \n",
       "1           Richmond Station       1 Richmond Street W  Canadian (New)   \n",
       "2                       Mira  420A Wellington Street W        Peruvian   \n",
       "3                       Rasa         196 Robert Street  Canadian (New)   \n",
       "4     KINKA IZAKAYA ORIGINAL         398 Church Street        Japanese   \n",
       "\n",
       "   Rating  Number of Reviews Price($)  Price(1-5)   Latitude  Longitude  \n",
       "0     4.5               3335       $$           2  43.647840 -79.388720  \n",
       "1     4.5                869      $$$           3  43.651373 -79.379285  \n",
       "2     4.5                256       $$           2  43.644170 -79.396390  \n",
       "3     4.5                317       $$           2  43.662775 -79.403968  \n",
       "4     4.0               1790       $$           2  43.660424 -79.378900  "
      ]
     },
     "execution_count": 14,
     "metadata": {},
     "output_type": "execute_result"
    }
   ],
   "source": [
    "tor_df.head()"
   ]
  },
  {
   "cell_type": "code",
   "execution_count": 15,
   "metadata": {},
   "outputs": [],
   "source": [
    "tor_df.to_csv('Data/tor_data.csv', index=False)"
   ]
  },
  {
   "cell_type": "code",
   "execution_count": 17,
   "metadata": {},
   "outputs": [
    {
     "data": {
      "text/plain": [
       "1000"
      ]
     },
     "execution_count": 17,
     "metadata": {},
     "output_type": "execute_result"
    }
   ],
   "source": [
    "van_data=[]\n",
    "queries=1000\n",
    "response=get_businesses(\"Vancouver\", \"restaurants\", queries, api_key)\n",
    "\n",
    "for i in range (0, queries, 1):\n",
    "    name=response[i]['name']\n",
    "    address = response[i]['location']['address1']\n",
    "    category=response[i]['categories'][0]['title']\n",
    "    rating=response[i]['rating']\n",
    "    review_count = response[i]['review_count']\n",
    "    price_symbol = (response[i]).get('price')\n",
    "    price_num = str(price_symbol).count('$')\n",
    "    lat = response[i]['coordinates']['latitude']\n",
    "    lon = response[i]['coordinates']['longitude']\n",
    "    \n",
    "\n",
    "    van_data.append({\"Restaurant Name\":name,\"Address\":address,\"Category\":category,\"Rating\":rating,\"Number of Reviews\":review_count,\"Price($)\":price_symbol,\"Price(1-5)\":price_num,\"Latitude\":lat,\"Longitude\":lon})\n",
    "\n",
    "van_df=pd.DataFrame(van_data)\n",
    "len(van_df) "
   ]
  },
  {
   "cell_type": "code",
   "execution_count": 18,
   "metadata": {},
   "outputs": [
    {
     "data": {
      "text/html": [
       "<div>\n",
       "<style scoped>\n",
       "    .dataframe tbody tr th:only-of-type {\n",
       "        vertical-align: middle;\n",
       "    }\n",
       "\n",
       "    .dataframe tbody tr th {\n",
       "        vertical-align: top;\n",
       "    }\n",
       "\n",
       "    .dataframe thead th {\n",
       "        text-align: right;\n",
       "    }\n",
       "</style>\n",
       "<table border=\"1\" class=\"dataframe\">\n",
       "  <thead>\n",
       "    <tr style=\"text-align: right;\">\n",
       "      <th></th>\n",
       "      <th>Restaurant Name</th>\n",
       "      <th>Address</th>\n",
       "      <th>Category</th>\n",
       "      <th>Rating</th>\n",
       "      <th>Number of Reviews</th>\n",
       "      <th>Price($)</th>\n",
       "      <th>Price(1-5)</th>\n",
       "      <th>Latitude</th>\n",
       "      <th>Longitude</th>\n",
       "    </tr>\n",
       "  </thead>\n",
       "  <tbody>\n",
       "    <tr>\n",
       "      <th>0</th>\n",
       "      <td>The Flying Pig</td>\n",
       "      <td>1168 Hamilton Street</td>\n",
       "      <td>Canadian (New)</td>\n",
       "      <td>4.0</td>\n",
       "      <td>1247</td>\n",
       "      <td>$$</td>\n",
       "      <td>2</td>\n",
       "      <td>49.275010</td>\n",
       "      <td>-123.122000</td>\n",
       "    </tr>\n",
       "    <tr>\n",
       "      <th>1</th>\n",
       "      <td>Kosoo</td>\n",
       "      <td>1128 Robson Street</td>\n",
       "      <td>Korean</td>\n",
       "      <td>4.5</td>\n",
       "      <td>69</td>\n",
       "      <td>$$</td>\n",
       "      <td>2</td>\n",
       "      <td>49.284940</td>\n",
       "      <td>-123.125920</td>\n",
       "    </tr>\n",
       "    <tr>\n",
       "      <th>2</th>\n",
       "      <td>Fat Mao Noodles</td>\n",
       "      <td>938 Helmcken Street</td>\n",
       "      <td>Noodles</td>\n",
       "      <td>4.5</td>\n",
       "      <td>27</td>\n",
       "      <td>None</td>\n",
       "      <td>0</td>\n",
       "      <td>49.279902</td>\n",
       "      <td>-123.127246</td>\n",
       "    </tr>\n",
       "    <tr>\n",
       "      <th>3</th>\n",
       "      <td>Miku</td>\n",
       "      <td>200 Granville Street</td>\n",
       "      <td>Japanese</td>\n",
       "      <td>4.5</td>\n",
       "      <td>2107</td>\n",
       "      <td>$$$</td>\n",
       "      <td>3</td>\n",
       "      <td>49.286918</td>\n",
       "      <td>-123.112763</td>\n",
       "    </tr>\n",
       "    <tr>\n",
       "      <th>4</th>\n",
       "      <td>Kingyo</td>\n",
       "      <td>871 Denman Street</td>\n",
       "      <td>Japanese</td>\n",
       "      <td>4.5</td>\n",
       "      <td>1012</td>\n",
       "      <td>$$</td>\n",
       "      <td>2</td>\n",
       "      <td>49.290610</td>\n",
       "      <td>-123.137140</td>\n",
       "    </tr>\n",
       "  </tbody>\n",
       "</table>\n",
       "</div>"
      ],
      "text/plain": [
       "   Restaurant Name               Address        Category  Rating  \\\n",
       "0   The Flying Pig  1168 Hamilton Street  Canadian (New)     4.0   \n",
       "1            Kosoo    1128 Robson Street          Korean     4.5   \n",
       "2  Fat Mao Noodles   938 Helmcken Street         Noodles     4.5   \n",
       "3             Miku  200 Granville Street        Japanese     4.5   \n",
       "4           Kingyo     871 Denman Street        Japanese     4.5   \n",
       "\n",
       "   Number of Reviews Price($)  Price(1-5)   Latitude   Longitude  \n",
       "0               1247       $$           2  49.275010 -123.122000  \n",
       "1                 69       $$           2  49.284940 -123.125920  \n",
       "2                 27     None           0  49.279902 -123.127246  \n",
       "3               2107      $$$           3  49.286918 -123.112763  \n",
       "4               1012       $$           2  49.290610 -123.137140  "
      ]
     },
     "execution_count": 18,
     "metadata": {},
     "output_type": "execute_result"
    }
   ],
   "source": [
    "van_df.head()"
   ]
  },
  {
   "cell_type": "code",
   "execution_count": 19,
   "metadata": {},
   "outputs": [],
   "source": [
    "van_df.to_csv('Data/van_data.csv', index=False)"
   ]
  }
 ],
 "metadata": {
  "kernelspec": {
   "display_name": "PythonData",
   "language": "python",
   "name": "pythondata"
  },
  "language_info": {
   "codemirror_mode": {
    "name": "ipython",
    "version": 3
   },
   "file_extension": ".py",
   "mimetype": "text/x-python",
   "name": "python",
   "nbconvert_exporter": "python",
   "pygments_lexer": "ipython3",
   "version": "3.9.13"
  },
  "orig_nbformat": 4,
  "vscode": {
   "interpreter": {
    "hash": "31f2aee4e71d21fbe5cf8b01ff0e069b9275f58929596ceb00d14d90e3e16cd6"
   }
  }
 },
 "nbformat": 4,
 "nbformat_minor": 2
}
