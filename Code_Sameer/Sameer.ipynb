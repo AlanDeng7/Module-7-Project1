{
 "cells": [
  {
   "cell_type": "code",
   "execution_count": 14,
   "metadata": {},
   "outputs": [],
   "source": [
    "import json\n",
    "import requests\n",
    "from pprint import pprint\n",
    "from yelpapi import YelpAPI\n",
    "\n",
    "from sameer_api_keys import yelpapi_key\n",
    "from sameer_api_keys import client_id"
   ]
  },
  {
   "cell_type": "code",
   "execution_count": 16,
   "metadata": {},
   "outputs": [],
   "source": [
    "from __future__ import print_function\n",
    "\n",
    "import argparse\n",
    "import json\n",
    "import pprint\n",
    "import requests\n",
    "import sys\n",
    "import urllib\n",
    "\n",
    "\n",
    "# This client code can run on Python 2.x or 3.x.  Your imports can be\n",
    "# simpler if you only need one of those.\n",
    "try:\n",
    "    # For Python 3.0 and later\n",
    "    from urllib.error import HTTPError\n",
    "    from urllib.parse import quote\n",
    "    from urllib.parse import urlencode\n",
    "except ImportError:\n",
    "    # Fall back to Python 2's urllib2 and urllib\n",
    "    from urllib2 import HTTPError\n",
    "    from urllib import quote\n",
    "    from urllib import urlencode"
   ]
  },
  {
   "cell_type": "code",
   "execution_count": 23,
   "metadata": {},
   "outputs": [],
   "source": [
    "def request(host, path, api_key, url_params=None):\n",
    "    \"\"\"Given your API_KEY, send a GET request to the API.\n",
    "    Args:\n",
    "        host (str): The domain host of the API.\n",
    "        path (str): The path of the API after the domain.\n",
    "        API_KEY (str): Your API Key.\n",
    "        url_params (dict): An optional set of query parameters in the request.\n",
    "    Returns:\n",
    "        dict: The JSON response from the request.\n",
    "    Raises:\n",
    "        HTTPError: An error occurs from the HTTP request.\n",
    "    \"\"\"\n",
    "    url_params = url_params or {}\n",
    "    url = '{0}{1}'.format(host, quote(path.encode('utf8')))\n",
    "    headers = {\n",
    "        'Authorization': 'Bearer %s' % api_key,\n",
    "    }\n",
    "\n",
    "    print(u'Querying {0} ...'.format(url))\n",
    "\n",
    "    response = requests.request('GET', url, headers=headers, params=url_params)\n",
    "\n",
    "    return response.json()"
   ]
  },
  {
   "cell_type": "code",
   "execution_count": 20,
   "metadata": {},
   "outputs": [],
   "source": [
    "# https://www.yelp.com/developers/v3/manage_app\n",
    "API_KEY= yelpapi_key\n",
    "\n",
    "\n",
    "# API constants, you shouldn't have to change these.\n",
    "API_HOST = 'https://api.yelp.com'\n",
    "SEARCH_PATH = '/v3/businesses/search'\n",
    "BUSINESS_PATH = '/v3/businesses/'  # Business ID will come after slash.\n",
    "\n",
    "\n",
    "# Defaults for our simple example.\n",
    "DEFAULT_TERM = 'dinner'\n",
    "DEFAULT_LOCATION = 'San Francisco, CA'\n",
    "SEARCH_LIMIT = 3"
   ]
  },
  {
   "cell_type": "code",
   "execution_count": 21,
   "metadata": {},
   "outputs": [],
   "source": [
    "# Define the simple search function based on location and key word\n",
    "def search(api_key, term, location):\n",
    "    \"\"\"Query the Search API by a search term and location.\n",
    "    Args:\n",
    "        term (str): The search term passed to the API.\n",
    "        location (str): The search location passed to the API.\n",
    "    Returns:\n",
    "        dict: The JSON response from the request.\n",
    "    \"\"\"\n",
    "\n",
    "    url_params = {\n",
    "        'term': term.replace(' ', '+'),\n",
    "        'location': location.replace(' ', '+'),\n",
    "        'limit': SEARCH_LIMIT\n",
    "    }\n",
    "    return request(API_HOST, SEARCH_PATH, api_key, url_params=url_params)\n"
   ]
  },
  {
   "cell_type": "code",
   "execution_count": 22,
   "metadata": {},
   "outputs": [
    {
     "name": "stdout",
     "output_type": "stream",
     "text": [
      "Querying https://api.yelp.com/v3/businesses/search ...\n"
     ]
    },
    {
     "data": {
      "text/plain": [
       "{'businesses': [{'id': 'qN_SDuhC3Bwthf2ZhYxJoA',\n",
       "   'alias': 'coda-toronto',\n",
       "   'name': 'Coda',\n",
       "   'image_url': 'https://s3-media2.fl.yelpcdn.com/bphoto/GHsN2fr9iT8XvT0Jr8Tveg/o.jpg',\n",
       "   'is_closed': False,\n",
       "   'url': 'https://www.yelp.com/biz/coda-toronto?adjust_creative=ak6oXUpa8ll3nyW5JrqaAA&utm_campaign=yelp_api_v3&utm_medium=api_v3_business_search&utm_source=ak6oXUpa8ll3nyW5JrqaAA',\n",
       "   'review_count': 43,\n",
       "   'categories': [{'alias': 'danceclubs', 'title': 'Dance Clubs'}],\n",
       "   'rating': 3.5,\n",
       "   'coordinates': {'latitude': 43.6654176, 'longitude': -79.4114579},\n",
       "   'transactions': [],\n",
       "   'price': '$$',\n",
       "   'location': {'address1': '794 Bathurst Street',\n",
       "    'address2': '',\n",
       "    'address3': '',\n",
       "    'city': 'Toronto',\n",
       "    'zip_code': 'M5R 3G1',\n",
       "    'country': 'CA',\n",
       "    'state': 'ON',\n",
       "    'display_address': ['794 Bathurst Street',\n",
       "     'Toronto, ON M5R 3G1',\n",
       "     'Canada']},\n",
       "   'phone': '+14165360346',\n",
       "   'display_phone': '+1 416-536-0346',\n",
       "   'distance': 1535.4654250510398},\n",
       "  {'id': 'wS8cgjFJFKgdfbRmz3pjTA',\n",
       "   'alias': 'handlebar-toronto',\n",
       "   'name': 'Handlebar',\n",
       "   'image_url': 'https://s3-media1.fl.yelpcdn.com/bphoto/HNt5KHcSL1SZOWm3OUaIjA/o.jpg',\n",
       "   'is_closed': False,\n",
       "   'url': 'https://www.yelp.com/biz/handlebar-toronto?adjust_creative=ak6oXUpa8ll3nyW5JrqaAA&utm_campaign=yelp_api_v3&utm_medium=api_v3_business_search&utm_source=ak6oXUpa8ll3nyW5JrqaAA',\n",
       "   'review_count': 56,\n",
       "   'categories': [{'alias': 'bars', 'title': 'Bars'},\n",
       "    {'alias': 'danceclubs', 'title': 'Dance Clubs'},\n",
       "    {'alias': 'musicvenues', 'title': 'Music Venues'}],\n",
       "   'rating': 4.5,\n",
       "   'coordinates': {'latitude': 43.6528604406984,\n",
       "    'longitude': -79.4012188911438},\n",
       "   'transactions': [],\n",
       "   'price': '$$',\n",
       "   'location': {'address1': '159 Augusta Avenue',\n",
       "    'address2': 'Main Floor',\n",
       "    'address3': '',\n",
       "    'city': 'Toronto',\n",
       "    'zip_code': 'M5T 2L4',\n",
       "    'country': 'CA',\n",
       "    'state': 'ON',\n",
       "    'display_address': ['159 Augusta Avenue',\n",
       "     'Main Floor',\n",
       "     'Toronto, ON M5T 2L4',\n",
       "     'Canada']},\n",
       "   'phone': '+16477487433',\n",
       "   'display_phone': '+1 647-748-7433',\n",
       "   'distance': 2408.1002813865757},\n",
       "  {'id': 'cyABEo-94nt4zZDA-cYzgg',\n",
       "   'alias': 'rebel-toronto',\n",
       "   'name': 'REBEL',\n",
       "   'image_url': 'https://s3-media2.fl.yelpcdn.com/bphoto/zqbPWuB_86ExLt7hh4tEjw/o.jpg',\n",
       "   'is_closed': False,\n",
       "   'url': 'https://www.yelp.com/biz/rebel-toronto?adjust_creative=ak6oXUpa8ll3nyW5JrqaAA&utm_campaign=yelp_api_v3&utm_medium=api_v3_business_search&utm_source=ak6oXUpa8ll3nyW5JrqaAA',\n",
       "   'review_count': 100,\n",
       "   'categories': [{'alias': 'venues', 'title': 'Venues & Event Spaces'},\n",
       "    {'alias': 'musicvenues', 'title': 'Music Venues'}],\n",
       "   'rating': 3.0,\n",
       "   'coordinates': {'latitude': 43.64097464233, 'longitude': -79.3546577730164},\n",
       "   'transactions': [],\n",
       "   'price': '$$',\n",
       "   'location': {'address1': '11 Polson Street',\n",
       "    'address2': '',\n",
       "    'address3': None,\n",
       "    'city': 'Toronto',\n",
       "    'zip_code': 'M5A 1A4',\n",
       "    'country': 'CA',\n",
       "    'state': 'ON',\n",
       "    'display_address': ['11 Polson Street', 'Toronto, ON M5A 1A4', 'Canada']},\n",
       "   'phone': '+14164695655',\n",
       "   'display_phone': '+1 416-469-5655',\n",
       "   'distance': 5022.068341817825}],\n",
       " 'total': 59,\n",
       " 'region': {'center': {'longitude': -79.39682006835938,\n",
       "   'latitude': 43.67428196976998}}}"
      ]
     },
     "execution_count": 22,
     "metadata": {},
     "output_type": "execute_result"
    }
   ],
   "source": [
    "search(yelpapi_key, 'nightclub', 'Toronto')"
   ]
  }
 ],
 "metadata": {
  "kernelspec": {
   "display_name": "PythonData",
   "language": "python",
   "name": "python3"
  },
  "language_info": {
   "codemirror_mode": {
    "name": "ipython",
    "version": 3
   },
   "file_extension": ".py",
   "mimetype": "text/x-python",
   "name": "python",
   "nbconvert_exporter": "python",
   "pygments_lexer": "ipython3",
   "version": "3.7.7"
  },
  "orig_nbformat": 4,
  "vscode": {
   "interpreter": {
    "hash": "262ca63fb3c544cfc7feaeba61b767a10f43c6da6327199e4a21e83f4ea77ca7"
   }
  }
 },
 "nbformat": 4,
 "nbformat_minor": 2
}
